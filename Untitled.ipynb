{
 "cells": [
  {
   "cell_type": "code",
   "execution_count": 45,
   "metadata": {
    "collapsed": false,
    "scrolled": true
   },
   "outputs": [
    {
     "name": "stdout",
     "output_type": "stream",
     "text": [
      "  Site_id         Lng        Lat       tmp\n",
      "0    A116  121.226536  31.013124  0.962366\n",
      "1    A051  121.746743  31.191404  0.699981\n",
      "2    A074  121.490155  31.250216  0.858305\n",
      "3    A001  121.486181  31.270203  0.860338\n",
      "4    A007  121.640596  31.245883  0.771705\n",
      "  Spot_id         Lng        Lat\n",
      "0   B9189  121.520966  31.308001\n",
      "1   B0010  121.451416  31.042305\n",
      "2   B0021  121.706100  31.382221\n",
      "3   B0052  121.599289  31.050518\n",
      "4   B0058  121.885323  31.510674\n"
     ]
    }
   ],
   "source": [
    "import pandas as pd\n",
    "import math\n",
    "path='../original_data'\n",
    "\n",
    "df1=pd.read_csv(open(path+'/1.csv','r'),sep=',',header=0)\n",
    "df2=pd.read_csv(open(path+'/2.csv','r'),sep=',',header=0)\n",
    "df1['tmp']=df1['Lng'].apply(math.sin)\n",
    "print df1.head()\n",
    "print df2.head()\n",
    "\n"
   ]
  },
  {
   "cell_type": "code",
   "execution_count": 39,
   "metadata": {
    "collapsed": false
   },
   "outputs": [
    {
     "name": "stdout",
     "output_type": "stream",
     "text": [
      "11:30\n"
     ]
    }
   ],
   "source": [
    "\n",
    "df2['time']=pd.to_datetime(df2['Pickup_time']).apply(lambda x: x.hour)\n",
    "df2=df2.drop(['time'],axis=1)\n",
    "print df2['Pickup_time'].min()"
   ]
  },
  {
   "cell_type": "code",
   "execution_count": null,
   "metadata": {
    "collapsed": true
   },
   "outputs": [],
   "source": []
  }
 ],
 "metadata": {
  "kernelspec": {
   "display_name": "Python 2",
   "language": "python",
   "name": "python2"
  },
  "language_info": {
   "codemirror_mode": {
    "name": "ipython",
    "version": 2
   },
   "file_extension": ".py",
   "mimetype": "text/x-python",
   "name": "python",
   "nbconvert_exporter": "python",
   "pygments_lexer": "ipython2",
   "version": "2.7.11"
  }
 },
 "nbformat": 4,
 "nbformat_minor": 0
}
